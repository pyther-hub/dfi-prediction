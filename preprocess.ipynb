{
 "cells": [
  {
   "cell_type": "code",
   "execution_count": 2,
   "metadata": {},
   "outputs": [],
   "source": [
    "import pandas as pd\n",
    "import os "
   ]
  },
  {
   "cell_type": "code",
   "execution_count": 6,
   "metadata": {},
   "outputs": [],
   "source": [
    "import os\n",
    "import shutil\n",
    "\n",
    "src_folder = '/Users/sudhanshurai/Desktop/Dilip sir/dfi prediction/all_data/Donors1_6_cropped_with_DFI_labels'\n",
    "dst_folder = '/Users/sudhanshurai/Desktop/Dilip sir/dfi prediction/dataset'\n",
    "os.makedirs(dst_folder, exist_ok=True)\n",
    "\n"
   ]
  },
  {
   "cell_type": "code",
   "execution_count": 8,
   "metadata": {},
   "outputs": [],
   "source": [
    "\n",
    "for root, _, files in os.walk(src_folder):\n",
    "\tfor file in files:\n",
    "\t\tsrc_path = os.path.join(root, file)\n",
    "\t\tdst_path = os.path.join(dst_folder, file)\n",
    "\t\tshutil.copy(src_path, dst_path)"
   ]
  },
  {
   "cell_type": "code",
   "execution_count": 13,
   "metadata": {},
   "outputs": [],
   "source": [
    "folder = '/Users/sudhanshurai/Desktop/Dilip sir/dfi prediction/dataset'\n",
    "data = []\n",
    "\n",
    "for root, _, files in os.walk(folder):\n",
    "    for file in files:\n",
    "        if file.endswith(('.png', '.jpg', '.jpeg')):\n",
    "            label = root.split('/')[-1]\n",
    "            data.append({'file_name': file,'donnor':int(file.split('_')[1][1]) , 'label': float(file.split('_')[-1][0:-4])/1e4})\n",
    "\n",
    "df = pd.DataFrame(data)\n",
    "df.to_csv('/Users/sudhanshurai/Desktop/Dilip sir/dfi prediction/dataset/annotations.csv', index=False)"
   ]
  },
  {
   "cell_type": "code",
   "execution_count": null,
   "metadata": {},
   "outputs": [],
   "source": []
  }
 ],
 "metadata": {
  "kernelspec": {
   "display_name": "myenv",
   "language": "python",
   "name": "python3"
  },
  "language_info": {
   "codemirror_mode": {
    "name": "ipython",
    "version": 3
   },
   "file_extension": ".py",
   "mimetype": "text/x-python",
   "name": "python",
   "nbconvert_exporter": "python",
   "pygments_lexer": "ipython3",
   "version": "3.9.10"
  }
 },
 "nbformat": 4,
 "nbformat_minor": 2
}
